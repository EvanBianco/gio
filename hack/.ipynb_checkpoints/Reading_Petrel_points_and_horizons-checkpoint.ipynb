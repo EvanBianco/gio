{
 "cells": [
  {
   "cell_type": "markdown",
   "metadata": {},
   "source": [
    "# Reading Petrel points"
   ]
  },
  {
   "cell_type": "code",
   "execution_count": 1,
   "metadata": {
    "collapsed": false
   },
   "outputs": [],
   "source": [
    "import re\n",
    "import numpy as np\n",
    "from io import StringIO"
   ]
  },
  {
   "cell_type": "code",
   "execution_count": 2,
   "metadata": {
    "collapsed": true
   },
   "outputs": [],
   "source": [
    "import geopandas as gp\n",
    "from shapely.geometry import Point, LineString"
   ]
  },
  {
   "cell_type": "code",
   "execution_count": 3,
   "metadata": {
    "collapsed": false
   },
   "outputs": [],
   "source": [
    "import matplotlib.pyplot as plt\n",
    "%matplotlib inline"
   ]
  },
  {
   "cell_type": "code",
   "execution_count": 4,
   "metadata": {
    "collapsed": true
   },
   "outputs": [],
   "source": [
    "points_file = \"Petrel_points_extract.txt\""
   ]
  },
  {
   "cell_type": "markdown",
   "metadata": {},
   "source": [
    "Let's look at the start of the file:"
   ]
  },
  {
   "cell_type": "code",
   "execution_count": 5,
   "metadata": {
    "collapsed": false
   },
   "outputs": [
    {
     "name": "stdout",
     "output_type": "stream",
     "text": [
      "# Petrel Points with attributes\n",
      "# Unit in X and Y direction: m\n",
      "# Unit in depth: m\n",
      "VERSION 1\n",
      "BEGIN HEADER\n",
      "X\n",
      "Y\n",
      "Z\n",
      "END HEADER\n",
      "374667.10 4541269.76 -5199.68 \n",
      "374662.03 4541281.19 -5199.59 \n",
      "374656.96 4541292.62 -5199.50 \n",
      "374651.89 4541304.04 -5199.44 \n",
      "374646.83 \n"
     ]
    }
   ],
   "source": [
    "with open(points_file) as f:\n",
    "    c = f.read()\n",
    "print(c[:256])"
   ]
  },
  {
   "cell_type": "markdown",
   "metadata": {},
   "source": [
    "We can make a function to parse the header into some variables, and read the bulk of the file – the data — into a NumPy array."
   ]
  },
  {
   "cell_type": "code",
   "execution_count": 6,
   "metadata": {
    "collapsed": false
   },
   "outputs": [],
   "source": [
    "def gdf_from_points(points_file):\n",
    "    \"\"\"\n",
    "    Read a Petrel points file and create a GeoPandas DataFrame.\n",
    "    \"\"\"\n",
    "    with open(points_file) as f:\n",
    "        comments, fields = [], []\n",
    "        in_header = False\n",
    "\n",
    "        while True:\n",
    "            line = f.readline().strip()\n",
    "            if line.startswith('#'):\n",
    "                comments.append(line.strip('# '))\n",
    "            elif line.startswith('VERSION'):\n",
    "                version = line.split()[-1]\n",
    "            elif line.startswith('BEGIN'):\n",
    "                in_header = True\n",
    "            elif line.startswith('END'):\n",
    "                in_header = False\n",
    "                break\n",
    "            elif in_header:\n",
    "                fields.append(line.strip())\n",
    "            else:\n",
    "                break\n",
    "\n",
    "        d = f.read()\n",
    "        s = StringIO(d)\n",
    "        data = np.loadtxt(s)\n",
    "\n",
    "        geoseries = gp.GeoSeries([Point(r[0], r[1]).buffer(5) for r in data])\n",
    "        d = {'geometry': geoseries, 'twt': -data[:,2]}\n",
    "\n",
    "        return gp.GeoDataFrame(d)"
   ]
  },
  {
   "cell_type": "markdown",
   "metadata": {},
   "source": [
    "Read the subset of data:"
   ]
  },
  {
   "cell_type": "code",
   "execution_count": 7,
   "metadata": {
    "collapsed": false
   },
   "outputs": [],
   "source": [
    "seafloor = gdf_from_points(points_file)"
   ]
  },
  {
   "cell_type": "code",
   "execution_count": 8,
   "metadata": {
    "collapsed": false
   },
   "outputs": [
    {
     "data": {
      "image/png": "[encoded data removed]",
      "text/plain": [
       "<matplotlib.figure.Figure at 0x113f3c048>"
      ]
     },
     "metadata": {},
     "output_type": "display_data"
    }
   ],
   "source": [
    "seafloor.plot()\n",
    "plt.show()"
   ]
  },
  {
   "cell_type": "markdown",
   "metadata": {},
   "source": [
    "## Petrel horizons"
   ]
  },
  {
   "cell_type": "code",
   "execution_count": 153,
   "metadata": {
    "collapsed": true
   },
   "outputs": [],
   "source": [
    "horizon_file = \"Sydney_horizons\""
   ]
  },
  {
   "cell_type": "code",
   "execution_count": 154,
   "metadata": {
    "collapsed": false
   },
   "outputs": [
    {
     "name": "stdout",
     "output_type": "stream",
     "text": [
      "PROFILE Seismic horizon 2    TYPE 1  5 By Petrel 2014.2 (64-bit)                2d_ci7m_gf.ifdf  m  ms\n",
      "SNAPPING PARAMETERS 2     2 2\n",
      " -1.94522407E+05  5.15279459E+06  1 14   722.27      0.00      0.00    0               2 out_MUR72-SYD-02_STK_klmn.SGY             \n",
      " -1.94524427E+05  5.15278011E+06  1 14   720.99      0.00      0.00    1               2 out_MUR72-SYD-02_STK_klmn.SGY             \n",
      " -1.94526448E+05  5.15276563E+06  1 14   720.67      0.00      0.00    2               2 out_MUR72-SYD-02_STK_klmn.\n"
     ]
    }
   ],
   "source": [
    "with open(horizon_file) as f:\n",
    "    c = f.read()\n",
    "    \n",
    "print(c[:512])"
   ]
  },
  {
   "cell_type": "markdown",
   "metadata": {},
   "source": [
    "Not totally sure what all these fields are. There seems to be two rows of header info for each horizon. This is followed by space-delimited data fields with columns as follows:\n",
    "\n",
    "1. X-coordinate, float\n",
    "1. Y-coordinate, float\n",
    "1. Segment number, int\n",
    "1. Symbol code, int\n",
    "1. Two-way time (ms), float\n",
    "1. Shot-point number, float\n",
    "1. CDP number, float\n",
    "1. Trace number, int\n",
    "1. Line type (2=2D, I=inline, X=crossline), int\n",
    "1. 2D line name or 3D survey name, str\n",
    "\n",
    "I have asked about this [on Stack Exchange](http://earthscience.stackexchange.com/questions/4897/what-are-the-fields-in-petrels-iesx-seismic-horizon-file) and on LinkedIn. "
   ]
  },
  {
   "cell_type": "code",
   "execution_count": 155,
   "metadata": {
    "collapsed": false
   },
   "outputs": [
    {
     "data": {
      "text/plain": [
       "'Fault to seafloor'"
      ]
     },
     "execution_count": 155,
     "metadata": {},
     "output_type": "execute_result"
    }
   ],
   "source": [
    "import re\n",
    "s = \"PROFILE Fault to seafloor    TYPE 1  5 By Petrel 2014.2 (64-bit)                2d_ci7m_gf.ifdf  m  ms\"\n",
    "re.search(r'PROFILE (.+?) +TYPE', s).group(1)"
   ]
  },
  {
   "cell_type": "markdown",
   "metadata": {},
   "source": [
    "I think we can use the first integer as a sort of flag to determine the start of a new 'segment'. \n",
    "\n",
    "I want to make a shapefile with line segments, I think. Not totally sure about that..."
   ]
  },
  {
   "cell_type": "code",
   "execution_count": 156,
   "metadata": {
    "collapsed": false
   },
   "outputs": [],
   "source": [
    "import operator, re\n",
    "\n",
    "def gdf_from_iesx(filename, threed=False):\n",
    "    \"\"\"\n",
    "    Read a Petrel IESX file and create a GeoPandas DataFrame.\n",
    "    \"\"\"\n",
    "    with open(filename) as f:\n",
    "\n",
    "        points, linestrings, names = [], [], []\n",
    "        mins, maxs = [], []\n",
    "        min_sfls, max_sfls = [], []\n",
    "        minx, miny = [], []\n",
    "        last_cdp = 0\n",
    "        skip = False\n",
    "        \n",
    "        while True:\n",
    "            line = f.readline().strip()        \n",
    "            if not line:\n",
    "                # End of file\n",
    "                break\n",
    "            elif line.startswith('EOD'):\n",
    "                # End of horizon\n",
    "                last_cdp = 0 # Force capture\n",
    "            elif line.startswith('SNAPPING'):\n",
    "                continue\n",
    "            elif line.startswith('PROFILE'):\n",
    "                name = re.search(r'PROFILE (.+?) +TYPE', line).group(1)\n",
    "                \n",
    "                # Some 'label' horizons slipped though, skip 'em.\n",
    "                if name.startswith('---'):\n",
    "                    skip = True\n",
    "                else:\n",
    "                    skip = False\n",
    "                    print()\n",
    "                    print(name, end=\"\")\n",
    "            else:\n",
    "                if skip == True:\n",
    "                    continue\n",
    "                \n",
    "                line = line.split()\n",
    "                x, y = float(line[0]), float(line[1])\n",
    "                twtt = float(line[4])\n",
    "\n",
    "                if threed:\n",
    "                    this_cdp = int(line[5]) + int(line[9])\n",
    "                else:\n",
    "                    this_cdp = int(line[7])\n",
    "\n",
    "                if abs(this_cdp - last_cdp) < 2:\n",
    "                    # Then it's a regular line, so keep adding\n",
    "                    points.append(Point(x, y, twtt))\n",
    "                    last_cdp = this_cdp\n",
    "                else:\n",
    "                    if len(points) < 2:\n",
    "                        last_cdp = this_cdp\n",
    "                        continue\n",
    "                        \n",
    "                    print('.', end=\"\")\n",
    "\n",
    "                    # Capture what we have\n",
    "                    linestrings.append(LineString(points))\n",
    "                    names.append(name)\n",
    "                    zs = [p.z for p in points]\n",
    "                    \n",
    "                    # We want the value and index of the min and max in the list of z values\n",
    "                    min_idx, min_val = min(enumerate(zs), key=operator.itemgetter(1))\n",
    "                    max_idx, max_val = max(enumerate(zs), key=operator.itemgetter(1))\n",
    "                    \n",
    "                    # Record the values and shallowest point in our master lists\n",
    "                    mins.append(min_val)\n",
    "                    maxs.append(max_val)\n",
    "                    \n",
    "                    p = points[min_idx]\n",
    "                    minx.append(p.x)\n",
    "                    miny.append(p.y)\n",
    "                    \n",
    "                    # Make GeoDataFrames from the points yielding the min and max\n",
    "                    min_gdf = gp.GeoDataFrame({'geometry':gp.GeoSeries(p)})\n",
    "                    max_gdf = gp.GeoDataFrame({'geometry':gp.GeoSeries(points[max_idx])})\n",
    "                    \n",
    "                    # Reset segment and carry on\n",
    "                    last_cdp = this_cdp\n",
    "                    points = [Point(x, y, twtt)]\n",
    "                    \n",
    "    return gp.GeoDataFrame({'geometry': linestrings,\n",
    "                            'name': names,\n",
    "                            'min': mins,\n",
    "                            'max': maxs,\n",
    "                            'minx': minx,\n",
    "                            'miny': miny\n",
    "                           })"
   ]
  },
  {
   "cell_type": "code",
   "execution_count": 159,
   "metadata": {
    "collapsed": false
   },
   "outputs": [
    {
     "name": "stdout",
     "output_type": "stream",
     "text": [
      "\n",
      "Seismic horizon 2...\n",
      "Seismic horizon 2........\n",
      "Sydney River Fm.\n",
      "South Bar Marker 05..................\n",
      "South Bar Marker 10............\n",
      "South Bar Marker 20...........\n",
      "South Bar Marker 20.\n",
      "Seismic horizon 1...\n",
      "Westphalian Unc........\n",
      "Westphalian Unc......................................................\n",
      "Penn 100.\n",
      "Miss-Penn Unc...\n",
      "Miss-Penn Unc.\n",
      "Base Windsor Unc..............\n",
      "Base Windsor Unc.......\n",
      "Basement.................................\n",
      "Basement.........\n",
      "Basement.........................................."
     ]
    }
   ],
   "source": [
    "hrz = gdf_from_iesx(horizon_file)"
   ]
  },
  {
   "cell_type": "code",
   "execution_count": 160,
   "metadata": {
    "collapsed": false
   },
   "outputs": [],
   "source": [
    "from fiona.crs import from_epsg\n",
    "hrz.crs = from_epsg(26722)"
   ]
  },
  {
   "cell_type": "markdown",
   "metadata": {},
   "source": [
    "Try a quick plot..."
   ]
  },
  {
   "cell_type": "markdown",
   "metadata": {},
   "source": [
    "Test on a small bit:"
   ]
  },
  {
   "cell_type": "code",
   "execution_count": 161,
   "metadata": {
    "collapsed": false
   },
   "outputs": [
    {
     "data": {
      "image/png": "[encoded data removed]",
      "text/plain": [
       "<matplotlib.figure.Figure object at 0x117e51198>"
      ]
     },
     "metadata": {},
     "output_type": "display_data"
    }
   ],
   "source": [
    "fig = plt.figure(figsize=(18,10))\n",
    "ax = hrz.plot(column='name')\n",
    "plt.show()"
   ]
  },
  {
   "cell_type": "code",
   "execution_count": 162,
   "metadata": {
    "collapsed": false
   },
   "outputs": [
    {
     "data": {
      "text/plain": [
       "0      LINESTRING Z (731683.687887352 5117889.9972289...\n",
       "1      LINESTRING Z (731681.5877891231 5117498.140930...\n",
       "2      LINESTRING Z (731633.9364844268 5117300.292968...\n",
       "3      LINESTRING Z (731593.463047051 5116867.8109724...\n",
       "4      LINESTRING Z (737068.468222586 5114909.5165788...\n",
       "5      LINESTRING Z (734331.3604499635 5115661.478184...\n",
       "6      LINESTRING Z (733284.4374612803 5116078.371199...\n",
       "7      LINESTRING Z (732906.0822050162 5116172.024291...\n",
       "8      LINESTRING Z (732831.0148198947 5117138.367329...\n",
       "9      LINESTRING Z (730883.4187244967 5114382.163269...\n",
       "10     LINESTRING Z (726777.4839666354 5112016.051302...\n",
       "11     LINESTRING Z (724137.8045736514 5110792.793262...\n",
       "12     LINESTRING Z (732442.1646933955 5116602.195704...\n",
       "13     LINESTRING Z (731264.3574950895 5114852.524607...\n",
       "14     LINESTRING Z (729664.5862785939 5113423.481207...\n",
       "15     LINESTRING Z (729585.2624221456 5113367.270033...\n",
       "16     LINESTRING Z (729384.2588224567 5113261.121262...\n",
       "17     LINESTRING Z (729013.8134186399 5113111.681249...\n",
       "18     LINESTRING Z (728639.6694781624 5112936.594151...\n",
       "19     LINESTRING Z (727217.2771733052 5112303.885076...\n",
       "20     LINESTRING Z (727160.6005618155 5112271.328250...\n",
       "21     LINESTRING Z (727104.5409812892 5112237.537553...\n",
       "22     LINESTRING Z (726582.8059822236 5111884.225484...\n",
       "23     LINESTRING Z (726551.6578790754 5111863.131894...\n",
       "24     LINESTRING Z (726055.7315031096 5111563.408445...\n",
       "25     LINESTRING Z (725715.1371521308 5111340.669952...\n",
       "26     LINESTRING Z (736721.7072554233 5115021.202522...\n",
       "27     LINESTRING Z (734217.3306033758 5115683.072419...\n",
       "28     LINESTRING Z (732295.9020439676 5116397.690073...\n",
       "29     LINESTRING Z (728852.6402029924 5117990.949914...\n",
       "                             ...                        \n",
       "192    LINESTRING Z (704126.3432277569 5206795.517545...\n",
       "193    LINESTRING Z (703496.4873494535 5207509.090232...\n",
       "194    LINESTRING Z (702610.9307447867 5208501.065403...\n",
       "195    LINESTRING Z (697611.6356821632 5214308.468083...\n",
       "196    LINESTRING Z (717598.7601652445 5219249.081294...\n",
       "197    LINESTRING Z (718867.8005118145 5217800.029340...\n",
       "198    LINESTRING Z (719972.0294932503 5216539.165344...\n",
       "199    LINESTRING Z (724311.3698156551 5211489.589689...\n",
       "200    LINESTRING Z (724475.1367049685 5211301.420098...\n",
       "201    LINESTRING Z (724950.0579268744 5210755.738663...\n",
       "202    LINESTRING Z (725441.3562961093 5210191.230651...\n",
       "203    LINESTRING Z (726227.4348015175 5209288.017918...\n",
       "204    LINESTRING Z (726998.2801582777 5208403.990874...\n",
       "205    LINESTRING Z (727248.2204333923 5208123.083164...\n",
       "206    LINESTRING Z (727514.8215446358 5207823.459493...\n",
       "207    LINESTRING Z (728131.339728015 5207130.5560172...\n",
       "208    LINESTRING Z (728394.4226238013 5206828.604670...\n",
       "209    LINESTRING Z (728819.3340506636 5206336.223178...\n",
       "210    LINESTRING Z (732839.6524757916 5201677.476945...\n",
       "211    LINESTRING Z (739253.6018714024 5194309.481650...\n",
       "212    LINESTRING Z (741042.7902595365 5192249.844992...\n",
       "213    LINESTRING Z (746015.9486079586 5186501.172201...\n",
       "214    LINESTRING Z (746978.9258303393 5185384.600709...\n",
       "215    LINESTRING Z (748979.500023901 5183080.8704477...\n",
       "216    LINESTRING Z (749374.3674046186 5182628.303177...\n",
       "217    LINESTRING Z (750394.3692615485 5181459.154527...\n",
       "218    LINESTRING Z (751595.3063084659 5180082.613422...\n",
       "219    LINESTRING Z (752039.4802763527 5179573.488228...\n",
       "220    LINESTRING Z (753223.9212794107 5178215.863317...\n",
       "221    LINESTRING Z (755099.2225095766 5176066.369716...\n",
       "Name: geometry, dtype: object"
      ]
     },
     "execution_count": 162,
     "metadata": {},
     "output_type": "execute_result"
    }
   ],
   "source": [
    "hrz['geometry'].to_crs(crs=None, epsg=26920)"
   ]
  },
  {
   "cell_type": "markdown",
   "metadata": {},
   "source": [
    "## Petrel Horizons to simple 3 column ascii files"
   ]
  },
  {
   "cell_type": "code",
   "execution_count": 213,
   "metadata": {
    "collapsed": false
   },
   "outputs": [
    {
     "data": {
      "text/plain": [
       "[1438296.9001811147]"
      ]
     },
     "execution_count": 213,
     "metadata": {},
     "output_type": "execute_result"
    }
   ],
   "source": [
    "p = Point(100000, 200000, 100.0)\n",
    "points = gp.GeoDataFrame({'geometry':gp.GeoSeries(p)})\n",
    "points.crs = from_epsg(26722)\n",
    "converted = points.to_crs(epsg=26920)\n",
    "pc = converted['geometry']\n",
    "xs = [p.x for p in pc]\n",
    "xs = [p.y for p in pc]\n"
   ]
  },
  {
   "cell_type": "code",
   "execution_count": 290,
   "metadata": {
    "collapsed": false
   },
   "outputs": [],
   "source": [
    "def dict_from_iesx(filename, threed=False, conv_espg=26920):\n",
    "    \"\"\"\n",
    "    Read a Petrel IESX file and create a GeoPandas DataFrame.\n",
    "    \"\"\"\n",
    "    with open(filename) as f:\n",
    "        horizons = {}\n",
    "        data, name = [], []\n",
    "        last_cdp = 0\n",
    "        skip = False\n",
    "        \n",
    "        while True:\n",
    "            line = f.readline().strip()        \n",
    "            if not line:\n",
    "                # End of file\n",
    "                break\n",
    "            elif line.startswith('EOD'):\n",
    "                # End of horizon\n",
    "                last_cdp = 0 # Force capture\n",
    "            elif line.startswith('SNAPPING'):\n",
    "                continue\n",
    "            elif line.startswith('PROFILE'):\n",
    "                name = re.search(r'PROFILE (.+?) +TYPE', line).group(1)\n",
    "                \n",
    "                # Some 'label' horizons slipped though, skip 'em.\n",
    "                if name.startswith('---'):\n",
    "                    skip = True\n",
    "                else:\n",
    "                    skip = False\n",
    "                    print()\n",
    "                    print(name, end=\"\")\n",
    "            else:\n",
    "                if skip == True:\n",
    "                    continue\n",
    "                    \n",
    "                line = line.split()\n",
    "                x, y = float(line[0]), float(line[1])\n",
    "                twtt = float(line[4])\n",
    "                \n",
    "                point = Point(x, y, twtt)\n",
    "                points = gp.GeoDataFrame({'geometry':gp.GeoSeries(point)})\n",
    "                points.crs = from_epsg(26722)\n",
    "                converted = points.to_crs(epsg=26920)\n",
    "                pc = converted['geometry']\n",
    "                xs = [p.x for p in pc][0]\n",
    "                ys = [p.y for p in pc][0]\n",
    "                \n",
    "                if name not in horizons:    \n",
    "                    horizons[name] = []\n",
    "                \n",
    "                horizons[name].append([xs, ys, twtt])\n",
    "\n",
    "                if threed:\n",
    "                    this_cdp = int(line[5]) + int(line[9])\n",
    "                else:\n",
    "                    this_cdp = int(line[7])\n",
    "            \n",
    "                \n",
    "        # Turn the list of lists into an array\n",
    "        #for horizon in horizons:\n",
    "        #    horizon[horizon] = np.array(horizon[horizon])\n",
    "              \n",
    "    return horizons"
   ]
  },
  {
   "cell_type": "code",
   "execution_count": 291,
   "metadata": {
    "collapsed": false
   },
   "outputs": [
    {
     "data": {
      "text/html": [
       "<div>\n",
       "<table border=\"1\" class=\"dataframe\">\n",
       "  <thead>\n",
       "    <tr style=\"text-align: right;\">\n",
       "      <th></th>\n",
       "      <th>geometry</th>\n",
       "    </tr>\n",
       "  </thead>\n",
       "  <tbody>\n",
       "    <tr>\n",
       "      <th>0</th>\n",
       "      <td>POINT Z (737097.0099933511 5114662.999070914 200)</td>\n",
       "    </tr>\n",
       "  </tbody>\n",
       "</table>\n",
       "</div>"
      ],
      "text/plain": [
       "                                            geometry\n",
       "0  POINT Z (737097.0099933511 5114662.999070914 200)"
      ]
     },
     "execution_count": 291,
     "metadata": {},
     "output_type": "execute_result"
    }
   ],
   "source": [
    "x, y = -1.89550179E+05,  5.14898374E+06\n",
    "p = Point(x, y, 200)\n",
    "points = gp.GeoDataFrame({'geometry':gp.GeoSeries(p)})\n",
    "points.crs = from_epsg(26922)\n",
    "converted = points.to_crs(epsg=26920)\n",
    "converted\n",
    "#pc = converted['geometry']\n",
    "#xs = [p.x for p in pc][0]\n",
    "#ys = [p.y for p in pc][0]\n",
    "#xs, ys"
   ]
  },
  {
   "cell_type": "code",
   "execution_count": 292,
   "metadata": {
    "collapsed": false
   },
   "outputs": [
    {
     "name": "stdout",
     "output_type": "stream",
     "text": [
      "\n",
      "Seismic horizon 2\n",
      "Seismic horizon 2\n",
      "Sydney River Fm.\n",
      "South Bar Marker 05\n",
      "South Bar Marker 10\n",
      "South Bar Marker 20\n",
      "South Bar Marker 20\n",
      "Seismic horizon 1\n",
      "Westphalian Unc.\n",
      "Westphalian Unc.\n",
      "Penn 100\n",
      "Miss-Penn Unc.\n",
      "Miss-Penn Unc.\n",
      "Base Windsor Unc.\n",
      "Base Windsor Unc.\n",
      "Basement\n",
      "Basement\n",
      "Basement"
     ]
    }
   ],
   "source": [
    "hrz = dict_from_iesx(horizon_file)"
   ]
  },
  {
   "cell_type": "code",
   "execution_count": 295,
   "metadata": {
    "collapsed": true
   },
   "outputs": [],
   "source": [
    "def reformat_horizon_dict(horizons):\n",
    "    \"\"\"\n",
    "    Takes a dictionary of horizons and puts the values into an np array\n",
    "    \"\"\"\n",
    "    for key in horizons:\n",
    "        horizons[key] = np.array(horizons[key])\n",
    "    return horizons"
   ]
  },
  {
   "cell_type": "code",
   "execution_count": 296,
   "metadata": {
    "collapsed": true
   },
   "outputs": [],
   "source": [
    "new_hrz = reformat_horizon_dict(hrz)"
   ]
  },
  {
   "cell_type": "code",
   "execution_count": 297,
   "metadata": {
    "collapsed": false
   },
   "outputs": [
    {
     "data": {
      "text/plain": [
       "dict_keys(['South Bar Marker 05', 'Seismic horizon 2', 'Base Windsor Unc.', 'South Bar Marker 10', 'Seismic horizon 1', 'Sydney River Fm.', 'Basement', 'South Bar Marker 20', 'Westphalian Unc.', 'Penn 100', 'Miss-Penn Unc.'])"
      ]
     },
     "execution_count": 297,
     "metadata": {},
     "output_type": "execute_result"
    }
   ],
   "source": [
    "new_hrz.keys()"
   ]
  },
  {
   "cell_type": "code",
   "execution_count": 298,
   "metadata": {
    "collapsed": false
   },
   "outputs": [
    {
     "data": {
      "text/plain": [
       "array([[  7.31635011e+05,   5.11766399e+06,   7.21300000e+02],\n",
       "       [  7.31635199e+05,   5.11764945e+06,   7.20890000e+02],\n",
       "       [  7.31635387e+05,   5.11763491e+06,   7.20470000e+02],\n",
       "       ..., \n",
       "       [  7.55774009e+05,   5.17501199e+06,   1.01153000e+03],\n",
       "       [  7.55790195e+05,   5.17499301e+06,   1.01279000e+03],\n",
       "       [  7.55806383e+05,   5.17497402e+06,   1.01282000e+03]])"
      ]
     },
     "execution_count": 298,
     "metadata": {},
     "output_type": "execute_result"
    }
   ],
   "source": [
    "new_hrz['Basement']"
   ]
  },
  {
   "cell_type": "code",
   "execution_count": 299,
   "metadata": {
    "collapsed": false
   },
   "outputs": [
    {
     "data": {
      "text/plain": [
       "'/Users/Evan/gio/hack'"
      ]
     },
     "execution_count": 299,
     "metadata": {},
     "output_type": "execute_result"
    }
   ],
   "source": [
    "pwd"
   ]
  },
  {
   "cell_type": "code",
   "execution_count": 300,
   "metadata": {
    "collapsed": false
   },
   "outputs": [],
   "source": [
    "def write_geotransect_horizons(horizons_dict, fmt='%10.2f'):\n",
    "    for key in horizons_dict:\n",
    "        np.savetxt(key +'.txt', horizons_dict[key], header=key, fmt=fmt, delimiter=' ', newline='\\n')\n",
    "    return"
   ]
  },
  {
   "cell_type": "code",
   "execution_count": 301,
   "metadata": {
    "collapsed": false
   },
   "outputs": [],
   "source": [
    "write_geotransect_horizons(new_hrz)"
   ]
  },
  {
   "cell_type": "markdown",
   "metadata": {},
   "source": [
    "Add a CRS..."
   ]
  },
  {
   "cell_type": "markdown",
   "metadata": {},
   "source": [
    "Write a file if you like."
   ]
  },
  {
   "cell_type": "markdown",
   "metadata": {},
   "source": [
    "Checking Byte postition"
   ]
  },
  {
   "cell_type": "code",
   "execution_count": 143,
   "metadata": {
    "collapsed": false
   },
   "outputs": [
    {
     "name": "stdout",
     "output_type": "stream",
     "text": [
      "exception occurred at position 0\n"
     ]
    },
    {
     "ename": "OSError",
     "evalue": "telling position disabled by next() call",
     "output_type": "error",
     "traceback": [
      "\u001b[0;31m---------------------------------------------------------------------------\u001b[0m",
      "\u001b[0;31mOSError\u001b[0m                                   Traceback (most recent call last)",
      "\u001b[0;32m<ipython-input-143-6260850b234d>\u001b[0m in \u001b[0;36m<module>\u001b[0;34m()\u001b[0m\n\u001b[1;32m      4\u001b[0m         \u001b[0mfile\u001b[0m\u001b[0;34m.\u001b[0m\u001b[0mseek\u001b[0m\u001b[0;34m(\u001b[0m\u001b[0mposition\u001b[0m\u001b[0;34m)\u001b[0m  \u001b[0;31m# zero in base case\u001b[0m\u001b[0;34m\u001b[0m\u001b[0m\n\u001b[1;32m      5\u001b[0m         \u001b[0;32mfor\u001b[0m \u001b[0mline\u001b[0m \u001b[0;32min\u001b[0m \u001b[0mfile\u001b[0m\u001b[0;34m:\u001b[0m\u001b[0;34m\u001b[0m\u001b[0m\n\u001b[0;32m----> 6\u001b[0;31m             \u001b[0mposition\u001b[0m \u001b[0;34m=\u001b[0m \u001b[0mfile\u001b[0m\u001b[0;34m.\u001b[0m\u001b[0mtell\u001b[0m\u001b[0;34m(\u001b[0m\u001b[0;34m)\u001b[0m \u001b[0;31m# current seek position in file\u001b[0m\u001b[0;34m\u001b[0m\u001b[0m\n\u001b[0m\u001b[1;32m      7\u001b[0m             \u001b[0;31m# process the line\u001b[0m\u001b[0;34m\u001b[0m\u001b[0;34m\u001b[0m\u001b[0m\n\u001b[1;32m      8\u001b[0m \u001b[0;32mexcept\u001b[0m\u001b[0;34m:\u001b[0m\u001b[0;34m\u001b[0m\u001b[0m\n",
      "\u001b[0;31mOSError\u001b[0m: telling position disabled by next() call"
     ]
    }
   ],
   "source": [
    "position = 0  # or wherever you left off last time\n",
    "try:\n",
    "    with open('Basement.txt') as file:\n",
    "        file.seek(position)  # zero in base case\n",
    "        for line in file:\n",
    "            position = file.tell() # current seek position in file\n",
    "            # process the line\n",
    "except:\n",
    "    print ('exception occurred at position {}'.format(position))\n",
    "    raise"
   ]
  },
  {
   "cell_type": "code",
   "execution_count": 27,
   "metadata": {
    "collapsed": true
   },
   "outputs": [],
   "source": [
    "# hrz.to_file('horizons_2d_UTM20N_NAD27.shp')"
   ]
  },
  {
   "cell_type": "markdown",
   "metadata": {},
   "source": [
    "## Petrel well headers"
   ]
  },
  {
   "cell_type": "markdown",
   "metadata": {},
   "source": [
    "A format for importing wells into Petrel (or exporting from Petrel?). (Leaving this for later.)\n",
    "\n",
    "    # Petrel well head\n",
    "    VERSION 1\t\t\t\t\t\t\t\n",
    "    BEGIN HEADER\t\t\t\t\t\t\t\n",
    "    Well_ID\t\t\t\t\t\t\t\n",
    "    Well_sequence_number\t\t\t\t\t\t\t\n",
    "    Well_name\t\t\t\t\t\t\t\n",
    "    Surface X [m] NAD 83\t\t\t\t\t\t\t\n",
    "    Surface Y [m] NAD 83\t\t\t\t\t\t\t\n",
    "    KB elevation above sea level\t\t\t\t\t\t\t\n",
    "    TD [m]\t\t\t\t\t\t\t\n",
    "    Operator\t\t\t\t\t\t\t\n",
    "    END HEADER\t\t\t\t\t\t\t\n",
    "     ' P-139 ' \t ' 139 ' \t ' ECE-13-P2_ST ' \t529557\t5045390\t44.68\t1,259.00\t ' East Coast Energy ' \n",
    "     ' P-138 ' \t ' 138 ' \t ' ECE-13-P1 ' \t529996\t5045966\t39.89\t700\t ' East Coast Energy ' \n",
    "     ' P-137 ' \t ' 137 ' \t ' Forent South Branch No.1 K-70-D/11-E-03 ' \t496239\t5003586\t55.9\t784\t ' Forent Energy Ltd ' \n",
    "     ' P-136 ' \t ' 136 ' \t ' Forent Alton No. 1 E-49-C 11-E-03  ' \t479105\t5003441\t40.23\t1001\t ' Forent Energy Ltd. ' \n",
    "     ' P-135 ' \t ' 135 ' \t ' E-38-A/11-E-5 ' \t420980\t5056480\t123\t946\t ' Eastrock Resources ' \n",
    "     ' P-134 ' \t ' 134 ' \t ' ECE-11-01 ' \t529976\t5045865\t43\t678\t ' East Coast Energy ' \n",
    "     ' P-133 ' \t ' 133 ' \t ' E-38-A/11-E-5 ' \t443001\t5015963\t51\t1726\t ' Elmworth Energy Corporation ' "
   ]
  },
  {
   "cell_type": "code",
   "execution_count": null,
   "metadata": {
    "collapsed": true
   },
   "outputs": [],
   "source": []
  }
 ],
 "metadata": {
  "kernelspec": {
   "display_name": "Python 3",
   "language": "python",
   "name": "python3"
  },
  "language_info": {
   "codemirror_mode": {
    "name": "ipython",
    "version": 3
   },
   "file_extension": ".py",
   "mimetype": "text/x-python",
   "name": "python",
   "nbconvert_exporter": "python",
   "pygments_lexer": "ipython3",
   "version": "3.4.3"
  }
 },
 "nbformat": 4,
 "nbformat_minor": 0
}
